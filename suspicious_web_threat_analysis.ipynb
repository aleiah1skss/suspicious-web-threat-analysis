{
 "cells": [
  {
   "cell_type": "markdown",
   "id": "c6528f47-4788-4178-b15c-8c50d0a79ee4",
   "metadata": {},
   "source": [
    "#  Suspicious Web Threat Interaction Analysis\n",
    "\n",
    "##  Objective\n",
    "To detect and analyze patterns in web interactions for identifying suspicious or potentially harmful activities using anomaly detection techniques.\n",
    "\n",
    "Dataset: `web_threats.csv`\n"
   ]
  },
  {
   "cell_type": "code",
   "execution_count": null,
   "id": "ea25417d-c914-488b-b121-e343938517b0",
   "metadata": {},
   "outputs": [],
   "source": [
    "import pandas as pd\n",
    "\n",
    "df = pd.read_csv(\"web_threats.csv.csv\")\n",
    "df.head()"
   ]
  },
  {
   "cell_type": "markdown",
   "id": "e6e0f05e-7580-487b-bcf5-5c2cc8ed343e",
   "metadata": {},
   "source": [
    "## 1. Data Import and Overview\n",
    "\n",
    "We load the dataset and observe its structure — including shape, types, and missing values.\n"
   ]
  },
  {
   "cell_type": "code",
   "execution_count": 3,
   "id": "8d912966-9f6f-4d7b-81cc-5e3bedb4b993",
   "metadata": {},
   "outputs": [
    {
     "name": "stdout",
     "output_type": "stream",
     "text": [
      "<class 'pandas.core.frame.DataFrame'>\n",
      "RangeIndex: 282 entries, 0 to 281\n",
      "Data columns (total 16 columns):\n",
      " #   Column               Non-Null Count  Dtype \n",
      "---  ------               --------------  ----- \n",
      " 0   bytes_in             282 non-null    int64 \n",
      " 1   bytes_out            282 non-null    int64 \n",
      " 2   creation_time        282 non-null    object\n",
      " 3   end_time             282 non-null    object\n",
      " 4   src_ip               282 non-null    object\n",
      " 5   src_ip_country_code  282 non-null    object\n",
      " 6   protocol             282 non-null    object\n",
      " 7   response.code        282 non-null    int64 \n",
      " 8   dst_port             282 non-null    int64 \n",
      " 9   dst_ip               282 non-null    object\n",
      " 10  rule_names           282 non-null    object\n",
      " 11  observation_name     282 non-null    object\n",
      " 12  source.meta          282 non-null    object\n",
      " 13  source.name          282 non-null    object\n",
      " 14  time                 282 non-null    object\n",
      " 15  detection_types      282 non-null    object\n",
      "dtypes: int64(4), object(12)\n",
      "memory usage: 35.4+ KB\n"
     ]
    }
   ],
   "source": [
    "df.info()\n"
   ]
  },
  {
   "cell_type": "markdown",
   "id": "cbe1ecd3-e3bd-49e4-b856-af4d41f5ab44",
   "metadata": {},
   "source": [
    "## 2. Data Preprocessing\n",
    "\n",
    "- Convert timestamp fields to datetime\n",
    "- Extract useful time features\n",
    "- Ensure there are no missing values\n"
   ]
  },
  {
   "cell_type": "code",
   "execution_count": 5,
   "id": "ccb0861f-ffcb-4666-a1bd-3ad64b1330cf",
   "metadata": {},
   "outputs": [
    {
     "data": {
      "text/html": [
       "<div>\n",
       "<style scoped>\n",
       "    .dataframe tbody tr th:only-of-type {\n",
       "        vertical-align: middle;\n",
       "    }\n",
       "\n",
       "    .dataframe tbody tr th {\n",
       "        vertical-align: top;\n",
       "    }\n",
       "\n",
       "    .dataframe thead th {\n",
       "        text-align: right;\n",
       "    }\n",
       "</style>\n",
       "<table border=\"1\" class=\"dataframe\">\n",
       "  <thead>\n",
       "    <tr style=\"text-align: right;\">\n",
       "      <th></th>\n",
       "      <th>bytes_in</th>\n",
       "      <th>bytes_out</th>\n",
       "      <th>creation_time</th>\n",
       "      <th>end_time</th>\n",
       "      <th>src_ip</th>\n",
       "      <th>src_ip_country_code</th>\n",
       "      <th>protocol</th>\n",
       "      <th>response.code</th>\n",
       "      <th>dst_port</th>\n",
       "      <th>dst_ip</th>\n",
       "      <th>rule_names</th>\n",
       "      <th>observation_name</th>\n",
       "      <th>source.meta</th>\n",
       "      <th>source.name</th>\n",
       "      <th>time</th>\n",
       "      <th>detection_types</th>\n",
       "    </tr>\n",
       "  </thead>\n",
       "  <tbody>\n",
       "    <tr>\n",
       "      <th>0</th>\n",
       "      <td>5602</td>\n",
       "      <td>12990</td>\n",
       "      <td>2024-04-25T23:00:00Z</td>\n",
       "      <td>2024-04-25T23:10:00Z</td>\n",
       "      <td>147.161.161.82</td>\n",
       "      <td>AE</td>\n",
       "      <td>HTTPS</td>\n",
       "      <td>200</td>\n",
       "      <td>443</td>\n",
       "      <td>10.138.69.97</td>\n",
       "      <td>Suspicious Web Traffic</td>\n",
       "      <td>Adversary Infrastructure Interaction</td>\n",
       "      <td>AWS_VPC_Flow</td>\n",
       "      <td>prod_webserver</td>\n",
       "      <td>2024-04-25T23:00:00Z</td>\n",
       "      <td>waf_rule</td>\n",
       "    </tr>\n",
       "    <tr>\n",
       "      <th>1</th>\n",
       "      <td>30912</td>\n",
       "      <td>18186</td>\n",
       "      <td>2024-04-25T23:00:00Z</td>\n",
       "      <td>2024-04-25T23:10:00Z</td>\n",
       "      <td>165.225.33.6</td>\n",
       "      <td>US</td>\n",
       "      <td>HTTPS</td>\n",
       "      <td>200</td>\n",
       "      <td>443</td>\n",
       "      <td>10.138.69.97</td>\n",
       "      <td>Suspicious Web Traffic</td>\n",
       "      <td>Adversary Infrastructure Interaction</td>\n",
       "      <td>AWS_VPC_Flow</td>\n",
       "      <td>prod_webserver</td>\n",
       "      <td>2024-04-25T23:00:00Z</td>\n",
       "      <td>waf_rule</td>\n",
       "    </tr>\n",
       "    <tr>\n",
       "      <th>2</th>\n",
       "      <td>28506</td>\n",
       "      <td>13468</td>\n",
       "      <td>2024-04-25T23:00:00Z</td>\n",
       "      <td>2024-04-25T23:10:00Z</td>\n",
       "      <td>165.225.212.255</td>\n",
       "      <td>CA</td>\n",
       "      <td>HTTPS</td>\n",
       "      <td>200</td>\n",
       "      <td>443</td>\n",
       "      <td>10.138.69.97</td>\n",
       "      <td>Suspicious Web Traffic</td>\n",
       "      <td>Adversary Infrastructure Interaction</td>\n",
       "      <td>AWS_VPC_Flow</td>\n",
       "      <td>prod_webserver</td>\n",
       "      <td>2024-04-25T23:00:00Z</td>\n",
       "      <td>waf_rule</td>\n",
       "    </tr>\n",
       "    <tr>\n",
       "      <th>3</th>\n",
       "      <td>30546</td>\n",
       "      <td>14278</td>\n",
       "      <td>2024-04-25T23:00:00Z</td>\n",
       "      <td>2024-04-25T23:10:00Z</td>\n",
       "      <td>136.226.64.114</td>\n",
       "      <td>US</td>\n",
       "      <td>HTTPS</td>\n",
       "      <td>200</td>\n",
       "      <td>443</td>\n",
       "      <td>10.138.69.97</td>\n",
       "      <td>Suspicious Web Traffic</td>\n",
       "      <td>Adversary Infrastructure Interaction</td>\n",
       "      <td>AWS_VPC_Flow</td>\n",
       "      <td>prod_webserver</td>\n",
       "      <td>2024-04-25T23:00:00Z</td>\n",
       "      <td>waf_rule</td>\n",
       "    </tr>\n",
       "    <tr>\n",
       "      <th>4</th>\n",
       "      <td>6526</td>\n",
       "      <td>13892</td>\n",
       "      <td>2024-04-25T23:00:00Z</td>\n",
       "      <td>2024-04-25T23:10:00Z</td>\n",
       "      <td>165.225.240.79</td>\n",
       "      <td>NL</td>\n",
       "      <td>HTTPS</td>\n",
       "      <td>200</td>\n",
       "      <td>443</td>\n",
       "      <td>10.138.69.97</td>\n",
       "      <td>Suspicious Web Traffic</td>\n",
       "      <td>Adversary Infrastructure Interaction</td>\n",
       "      <td>AWS_VPC_Flow</td>\n",
       "      <td>prod_webserver</td>\n",
       "      <td>2024-04-25T23:00:00Z</td>\n",
       "      <td>waf_rule</td>\n",
       "    </tr>\n",
       "  </tbody>\n",
       "</table>\n",
       "</div>"
      ],
      "text/plain": [
       "   bytes_in  bytes_out         creation_time              end_time  \\\n",
       "0      5602      12990  2024-04-25T23:00:00Z  2024-04-25T23:10:00Z   \n",
       "1     30912      18186  2024-04-25T23:00:00Z  2024-04-25T23:10:00Z   \n",
       "2     28506      13468  2024-04-25T23:00:00Z  2024-04-25T23:10:00Z   \n",
       "3     30546      14278  2024-04-25T23:00:00Z  2024-04-25T23:10:00Z   \n",
       "4      6526      13892  2024-04-25T23:00:00Z  2024-04-25T23:10:00Z   \n",
       "\n",
       "            src_ip src_ip_country_code protocol  response.code  dst_port  \\\n",
       "0   147.161.161.82                  AE    HTTPS            200       443   \n",
       "1     165.225.33.6                  US    HTTPS            200       443   \n",
       "2  165.225.212.255                  CA    HTTPS            200       443   \n",
       "3   136.226.64.114                  US    HTTPS            200       443   \n",
       "4   165.225.240.79                  NL    HTTPS            200       443   \n",
       "\n",
       "         dst_ip              rule_names                      observation_name  \\\n",
       "0  10.138.69.97  Suspicious Web Traffic  Adversary Infrastructure Interaction   \n",
       "1  10.138.69.97  Suspicious Web Traffic  Adversary Infrastructure Interaction   \n",
       "2  10.138.69.97  Suspicious Web Traffic  Adversary Infrastructure Interaction   \n",
       "3  10.138.69.97  Suspicious Web Traffic  Adversary Infrastructure Interaction   \n",
       "4  10.138.69.97  Suspicious Web Traffic  Adversary Infrastructure Interaction   \n",
       "\n",
       "    source.meta     source.name                  time detection_types  \n",
       "0  AWS_VPC_Flow  prod_webserver  2024-04-25T23:00:00Z        waf_rule  \n",
       "1  AWS_VPC_Flow  prod_webserver  2024-04-25T23:00:00Z        waf_rule  \n",
       "2  AWS_VPC_Flow  prod_webserver  2024-04-25T23:00:00Z        waf_rule  \n",
       "3  AWS_VPC_Flow  prod_webserver  2024-04-25T23:00:00Z        waf_rule  \n",
       "4  AWS_VPC_Flow  prod_webserver  2024-04-25T23:00:00Z        waf_rule  "
      ]
     },
     "execution_count": 5,
     "metadata": {},
     "output_type": "execute_result"
    }
   ],
   "source": [
    "df = pd.read_csv(\"web_threats.csv.csv\")\n",
    "df.head()\n"
   ]
  },
  {
   "cell_type": "markdown",
   "id": "0e995988-1b32-4803-aac5-fea54dbdcc94",
   "metadata": {},
   "source": [
    "##  Dataset Overview\n",
    "\n",
    "We start by examining the structure and basic information about the dataset using `df.info()`. This helps us understand the number of entries, column data types, and missing values (if any).\n"
   ]
  },
  {
   "cell_type": "code",
   "execution_count": 6,
   "id": "85240800-a3b9-4a59-b26e-61eb4cf1c691",
   "metadata": {},
   "outputs": [
    {
     "name": "stdout",
     "output_type": "stream",
     "text": [
      "<class 'pandas.core.frame.DataFrame'>\n",
      "RangeIndex: 282 entries, 0 to 281\n",
      "Data columns (total 16 columns):\n",
      " #   Column               Non-Null Count  Dtype \n",
      "---  ------               --------------  ----- \n",
      " 0   bytes_in             282 non-null    int64 \n",
      " 1   bytes_out            282 non-null    int64 \n",
      " 2   creation_time        282 non-null    object\n",
      " 3   end_time             282 non-null    object\n",
      " 4   src_ip               282 non-null    object\n",
      " 5   src_ip_country_code  282 non-null    object\n",
      " 6   protocol             282 non-null    object\n",
      " 7   response.code        282 non-null    int64 \n",
      " 8   dst_port             282 non-null    int64 \n",
      " 9   dst_ip               282 non-null    object\n",
      " 10  rule_names           282 non-null    object\n",
      " 11  observation_name     282 non-null    object\n",
      " 12  source.meta          282 non-null    object\n",
      " 13  source.name          282 non-null    object\n",
      " 14  time                 282 non-null    object\n",
      " 15  detection_types      282 non-null    object\n",
      "dtypes: int64(4), object(12)\n",
      "memory usage: 35.4+ KB\n"
     ]
    }
   ],
   "source": [
    "df.info()\n"
   ]
  },
  {
   "cell_type": "markdown",
   "id": "8720cce8-6e3a-45e1-aac4-681707968690",
   "metadata": {},
   "source": [
    "##  Top Detection Types\n",
    "\n",
    "We examine the most frequently occurring detection types in the dataset. This helps in identifying which types of suspicious activities are most common.\n",
    "\n",
    "This is useful for understanding the dominant threat categories logged by the system.\n"
   ]
  },
  {
   "cell_type": "code",
   "execution_count": 5,
   "id": "06d7f775-4ef7-41cb-87ce-192dd8c8d441",
   "metadata": {},
   "outputs": [
    {
     "data": {
      "text/plain": [
       "detection_types\n",
       "waf_rule    282\n",
       "Name: count, dtype: int64"
      ]
     },
     "execution_count": 5,
     "metadata": {},
     "output_type": "execute_result"
    }
   ],
   "source": [
    "import pandas as pd\n",
    "\n",
    "df = pd.read_csv(\"web_threats.csv.csv\")  \n",
    "df['detection_types'].value_counts().head(10)"
   ]
  },
  {
   "cell_type": "markdown",
   "id": "80c4a5a0-5113-453b-817e-d58856a60f47",
   "metadata": {},
   "source": [
    "##  Top Rule Names Triggered\n",
    "\n",
    "This section displays the most frequently triggered rule names. These rules are typically defined by the security system to detect specific patterns or behaviors.\n",
    "\n",
    "Understanding the most active rules gives insight into what types of threats or suspicious activities the system is flagging most often.\n"
   ]
  },
  {
   "cell_type": "code",
   "execution_count": 6,
   "id": "b3a730ef-05fa-4b9a-893e-837742ec6be5",
   "metadata": {},
   "outputs": [
    {
     "data": {
      "text/plain": [
       "rule_names\n",
       "Suspicious Web Traffic    282\n",
       "Name: count, dtype: int64"
      ]
     },
     "execution_count": 6,
     "metadata": {},
     "output_type": "execute_result"
    }
   ],
   "source": [
    "df['rule_names'].value_counts().head(10)\n"
   ]
  },
  {
   "cell_type": "markdown",
   "id": "e4e32a99-9954-4e4a-83bd-e80054763f11",
   "metadata": {},
   "source": [
    "##  Top Source Country Codes\n",
    "\n",
    "This section analyzes the top source IP country codes from which the suspicious web interactions originated. It helps identify geographic patterns in the traffic.\n",
    "\n",
    "Frequent occurrences from specific countries might indicate targeted attacks or automated bot activity originating from those regions.\n"
   ]
  },
  {
   "cell_type": "code",
   "execution_count": 7,
   "id": "e138d052-b62c-40ec-9c74-3af20df25e48",
   "metadata": {},
   "outputs": [
    {
     "data": {
      "text/plain": [
       "src_ip_country_code\n",
       "US    113\n",
       "CA     72\n",
       "DE     28\n",
       "AT     21\n",
       "NL     18\n",
       "AE     16\n",
       "IL     14\n",
       "Name: count, dtype: int64"
      ]
     },
     "execution_count": 7,
     "metadata": {},
     "output_type": "execute_result"
    }
   ],
   "source": [
    "df['src_ip_country_code'].value_counts().head(10)\n"
   ]
  },
  {
   "cell_type": "markdown",
   "id": "55b0ce3c-6b38-493a-a31f-12148bf1b71a",
   "metadata": {},
   "source": [
    "##  Suspicious Web Events by Hour\n",
    "\n",
    "To identify when suspicious activity is most frequent, we extract the hour from the `creation_time` and plot the distribution of events by hour.\n",
    "\n",
    "This analysis helps reveal time-based patterns — such as spikes in suspicious traffic during specific hours — which can be useful for monitoring and response planning.\n"
   ]
  },
  {
   "cell_type": "code",
   "execution_count": 10,
   "id": "0bfc94d1-705d-4ef2-bf86-e7b79534531d",
   "metadata": {},
   "outputs": [
    {
     "data": {
      "image/png": "[encoded data removed]",
      "text/plain": [
       "<Figure size 1000x400 with 1 Axes>"
      ]
     },
     "metadata": {},
     "output_type": "display_data"
    }
   ],
   "source": [
    "df['creation_time'] = pd.to_datetime(df['creation_time'])\n",
    "df['hour'] = df['creation_time'].dt.hour\n",
    "\n",
    "df['hour'].value_counts().sort_index().plot(kind='bar', figsize=(10,4), color='orange')\n",
    "plt.title(\"Suspicious Web Events by Hour\")\n",
    "plt.xlabel(\"Hour of Day\")\n",
    "plt.ylabel(\"Number of Events\")\n",
    "plt.grid(axis='y')\n",
    "plt.show()\n"
   ]
  },
  {
   "cell_type": "markdown",
   "id": "8156d2a0-e6e1-4d5d-ac5f-bb2078d05f52",
   "metadata": {},
   "source": [
    "##  Data Preprocessing\n",
    "\n",
    "Before moving forward with analysis, we perform essential data cleaning steps:\n",
    "\n",
    "- Convert the `creation_time` and `end_time` columns to datetime format.\n",
    "- Strip any leading/trailing spaces from column names to avoid reference issues.\n",
    "- Check for missing values to ensure data completeness.\n",
    "\n",
    "These steps are crucial for accurate analysis and visualization later on.\n"
   ]
  },
  {
   "cell_type": "code",
   "execution_count": 11,
   "id": "2c67500f-b3d9-4318-9ec2-ccb1f215fbda",
   "metadata": {},
   "outputs": [
    {
     "name": "stdout",
     "output_type": "stream",
     "text": [
      "bytes_in               0\n",
      "bytes_out              0\n",
      "creation_time          0\n",
      "end_time               0\n",
      "src_ip                 0\n",
      "src_ip_country_code    0\n",
      "protocol               0\n",
      "response.code          0\n",
      "dst_port               0\n",
      "dst_ip                 0\n",
      "rule_names             0\n",
      "observation_name       0\n",
      "source.meta            0\n",
      "source.name            0\n",
      "time                   0\n",
      "detection_types        0\n",
      "hour                   0\n",
      "dtype: int64\n"
     ]
    }
   ],
   "source": [
    "# Convert time columns to datetime\n",
    "df['creation_time'] = pd.to_datetime(df['creation_time'])\n",
    "df['end_time'] = pd.to_datetime(df['end_time'])\n",
    "\n",
    "# Strip column names (remove leading/traili\n",
    "ng spaces if any)\n",
    "df.columns = df.columns.str.strip()\n",
    "\n",
    "# Check for missing values\n",
    "print(df.isnull().sum())\n"
   ]
  },
  {
   "cell_type": "markdown",
   "id": "def90c43-461b-445d-bcb5-635f4df1c1bb",
   "metadata": {},
   "source": [
    "##  Traffic Pattern Analysis: Bytes In vs. Bytes Out\n",
    "\n",
    "This scatter plot helps visualize the relationship between incoming (`bytes_in`) and outgoing (`bytes_out`) traffic for each web interaction.\n",
    "\n",
    "Clusters or outliers in this plot can hint at unusual or suspicious behavior — such as data exfiltration (high bytes out) or infiltration attempts (high bytes in).\n"
   ]
  },
  {
   "cell_type": "code",
   "execution_count": 12,
   "id": "613b6bdd-187f-4886-ae30-410e1639cd7e",
   "metadata": {},
   "outputs": [
    {
     "data": {
      "image/png": "[encoded data removed]",
      "text/plain": [
       "<Figure size 1000x500 with 1 Axes>"
      ]
     },
     "metadata": {},
     "output_type": "display_data"
    }
   ],
   "source": [
    "import matplotlib.pyplot as plt\n",
    "\n",
    "plt.figure(figsize=(10, 5))\n",
    "plt.scatter(df['bytes_in'], df['bytes_out'], alpha=0.6, color='teal')\n",
    "plt.title(\"Traffic Pattern: Bytes In vs. Bytes Out\")\n",
    "plt.xlabel(\"Bytes In\")\n",
    "plt.ylabel(\"Bytes Out\")\n",
    "plt.grid(True)\n",
    "plt.show()\n"
   ]
  },
  {
   "cell_type": "markdown",
   "id": "cdbb282e-7319-4d07-9606-16fc85305a75",
   "metadata": {},
   "source": [
    "##  Protocol Usage Distribution\n",
    "\n",
    "This bar chart shows the distribution of network protocols used in the dataset. Identifying the most frequently used protocols (e.g., HTTP, HTTPS) can help highlight standard vs. unusual communication methods that may signal suspicious behavior.\n"
   ]
  },
  {
   "cell_type": "code",
   "execution_count": 13,
   "id": "fe6a05b1-d860-4cd8-b777-3d2b7fbf8ff7",
   "metadata": {},
   "outputs": [
    {
     "data": {
      "image/png": "[encoded data removed]",
      "text/plain": [
       "<Figure size 640x480 with 1 Axes>"
      ]
     },
     "metadata": {},
     "output_type": "display_data"
    }
   ],
   "source": [
    "df['protocol'].value_counts().plot(kind='bar', color='steelblue')\n",
    "plt.title(\"Protocol Usage Count\")\n",
    "plt.xlabel(\"Protocol\")\n",
    "plt.ylabel(\"Number of Events\")\n",
    "plt.grid(axis='y')\n",
    "plt.show()\n"
   ]
  },
  {
   "cell_type": "markdown",
   "id": "828d31c4-5ea0-45d7-9c99-c623f9a18df6",
   "metadata": {},
   "source": [
    "##  Feature Engineering: Duration & Average Packet Size\n",
    "\n",
    "To enhance the model's ability to detect anomalies, we engineer two new features:\n",
    "\n",
    "- **`duration`**: The total time (in seconds) between the start and end of each session.\n",
    "- **`avg_packet_size`**: The average size of packets exchanged during the session, calculated using bytes transferred divided by duration.\n",
    "\n",
    "These features help highlight abnormal session behaviors such as:\n",
    "- Very short sessions with high data transfer\n",
    "- Unusually long sessions with low activity\n"
   ]
  },
  {
   "cell_type": "code",
   "execution_count": 14,
   "id": "1ffdf431-0b90-4d22-a59f-03546adecf2b",
   "metadata": {},
   "outputs": [
    {
     "data": {
      "text/html": [
       "<div>\n",
       "<style scoped>\n",
       "    .dataframe tbody tr th:only-of-type {\n",
       "        vertical-align: middle;\n",
       "    }\n",
       "\n",
       "    .dataframe tbody tr th {\n",
       "        vertical-align: top;\n",
       "    }\n",
       "\n",
       "    .dataframe thead th {\n",
       "        text-align: right;\n",
       "    }\n",
       "</style>\n",
       "<table border=\"1\" class=\"dataframe\">\n",
       "  <thead>\n",
       "    <tr style=\"text-align: right;\">\n",
       "      <th></th>\n",
       "      <th>duration</th>\n",
       "      <th>avg_packet_size</th>\n",
       "    </tr>\n",
       "  </thead>\n",
       "  <tbody>\n",
       "    <tr>\n",
       "      <th>0</th>\n",
       "      <td>600.0</td>\n",
       "      <td>30.986667</td>\n",
       "    </tr>\n",
       "    <tr>\n",
       "      <th>1</th>\n",
       "      <td>600.0</td>\n",
       "      <td>81.830000</td>\n",
       "    </tr>\n",
       "    <tr>\n",
       "      <th>2</th>\n",
       "      <td>600.0</td>\n",
       "      <td>69.956667</td>\n",
       "    </tr>\n",
       "    <tr>\n",
       "      <th>3</th>\n",
       "      <td>600.0</td>\n",
       "      <td>74.706667</td>\n",
       "    </tr>\n",
       "    <tr>\n",
       "      <th>4</th>\n",
       "      <td>600.0</td>\n",
       "      <td>34.030000</td>\n",
       "    </tr>\n",
       "  </tbody>\n",
       "</table>\n",
       "</div>"
      ],
      "text/plain": [
       "   duration  avg_packet_size\n",
       "0     600.0        30.986667\n",
       "1     600.0        81.830000\n",
       "2     600.0        69.956667\n",
       "3     600.0        74.706667\n",
       "4     600.0        34.030000"
      ]
     },
     "execution_count": 14,
     "metadata": {},
     "output_type": "execute_result"
    }
   ],
   "source": [
    "# 1. Create a new 'duration' column in seconds\n",
    "df['duration'] = (df['end_time'] - df['creation_time']).dt.total_seconds()\n",
    "\n",
    "# 2. Handle any 0-second durations to avoid divide-by-zero\n",
    "df['duration'] = df['duration'].replace(0, 0.001)\n",
    "\n",
    "# 3. Create average packet size\n",
    "df['avg_packet_size'] = (df['bytes_in'] + df['bytes_out']) / df['duration']\n",
    "\n",
    "# Check if it worked\n",
    "df[['duration', 'avg_packet_size']].head()\n"
   ]
  },
  {
   "cell_type": "markdown",
   "id": "02f35047-d8ee-412f-81e8-cc16ebae815c",
   "metadata": {},
   "source": [
    "##  Country-Based Interaction Analysis\n",
    "\n",
    "To identify where the majority of web interactions originate from, we visualize the top 10 most frequent source IP country codes. This can help uncover patterns such as:\n",
    "\n",
    "- Frequent traffic from a specific region\n",
    "- Potential concentration of suspicious or automated access attempts\n",
    "\n",
    "This bar chart highlights the country codes with the highest number of logged events.\n"
   ]
  },
  {
   "cell_type": "code",
   "execution_count": 15,
   "id": "05a01017-c6a7-4a33-93a4-0315829d7753",
   "metadata": {},
   "outputs": [
    {
     "data": {
      "image/png": "[encoded data removed]",
      "text/plain": [
       "<Figure size 640x480 with 1 Axes>"
      ]
     },
     "metadata": {},
     "output_type": "display_data"
    }
   ],
   "source": [
    "df['src_ip_country_code'].value_counts().head(10).plot(kind='bar', color='purple')\n",
    "plt.title(\"Top 10 Source IP Countries\")\n",
    "plt.xlabel(\"Country Code\")\n",
    "plt.ylabel(\"Number of Events\")\n",
    "plt.grid(axis='y')\n",
    "plt.show()\n"
   ]
  },
  {
   "cell_type": "markdown",
   "id": "11ccd01d-5df1-4bd0-9a47-75f9d42ae81c",
   "metadata": {},
   "source": [
    "##  Suspicious Activities Based on Destination Ports\n",
    "\n",
    "Ports often indicate the type of service being accessed (e.g., port 80 for HTTP, 443 for HTTPS). Analyzing the most frequently targeted destination ports helps reveal:\n",
    "\n",
    "- Common services under interaction or attack\n",
    "- Potential unauthorized access attempts to non-standard ports\n",
    "\n",
    "The following chart displays the top 10 most used destination ports in the dataset.\n"
   ]
  },
  {
   "cell_type": "code",
   "execution_count": 16,
   "id": "80bee84c-213f-4e3d-93a5-3c6c70137db4",
   "metadata": {},
   "outputs": [
    {
     "data": {
      "image/png": "[encoded data removed]",
      "text/plain": [
       "<Figure size 640x480 with 1 Axes>"
      ]
     },
     "metadata": {},
     "output_type": "display_data"
    }
   ],
   "source": [
    "df['dst_port'].value_counts().head(10).plot(kind='bar', color='darkred')\n",
    "plt.title(\"Top 10 Destination Ports Used\")\n",
    "plt.xlabel(\"Destination Port\")\n",
    "plt.ylabel(\"Count\")\n",
    "plt.grid(axis='y')\n",
    "plt.show()\n"
   ]
  },
  {
   "cell_type": "code",
   "execution_count": 19,
   "id": "65891b65-ba64-42c7-8f82-395c84e2a8d0",
   "metadata": {},
   "outputs": [
    {
     "name": "stdout",
     "output_type": "stream",
     "text": [
      "Collecting scikit-learn\n",
      "  Downloading scikit_learn-1.7.1-cp311-cp311-win_amd64.whl.metadata (11 kB)\n",
      "Requirement already satisfied: numpy>=1.22.0 in c:\\users\\alia\\appdata\\local\\programs\\python\\python311\\lib\\site-packages (from scikit-learn) (2.3.2)\n",
      "Collecting scipy>=1.8.0 (from scikit-learn)\n",
      "  Downloading scipy-1.16.1-cp311-cp311-win_amd64.whl.metadata (60 kB)\n",
      "Collecting joblib>=1.2.0 (from scikit-learn)\n",
      "  Downloading joblib-1.5.1-py3-none-any.whl.metadata (5.6 kB)\n",
      "Collecting threadpoolctl>=3.1.0 (from scikit-learn)\n",
      "  Downloading threadpoolctl-3.6.0-py3-none-any.whl.metadata (13 kB)\n",
      "Downloading scikit_learn-1.7.1-cp311-cp311-win_amd64.whl (8.9 MB)\n",
      "   ---------------------------------------- 0.0/8.9 MB ? eta -:--:--\n",
      "   ------------ --------------------------- 2.9/8.9 MB 27.9 MB/s eta 0:00:01\n",
      "   --------------------- ------------------ 4.7/8.9 MB 11.9 MB/s eta 0:00:01\n",
      "   ------------------------ --------------- 5.5/8.9 MB 9.9 MB/s eta 0:00:01\n",
      "   ----------------------------- ---------- 6.6/8.9 MB 7.7 MB/s eta 0:00:01\n",
      "   ---------------------------------- ----- 7.6/8.9 MB 7.1 MB/s eta 0:00:01\n",
      "   ---------------------------------------  8.9/8.9 MB 6.9 MB/s eta 0:00:01\n",
      "   ---------------------------------------- 8.9/8.9 MB 6.5 MB/s  0:00:01\n",
      "Downloading joblib-1.5.1-py3-none-any.whl (307 kB)\n",
      "Downloading scipy-1.16.1-cp311-cp311-win_amd64.whl (38.6 MB)\n",
      "   ---------------------------------------- 0.0/38.6 MB ? eta -:--:--\n",
      "   - -------------------------------------- 1.3/38.6 MB 16.6 MB/s eta 0:00:03\n",
      "   -- ------------------------------------- 2.6/38.6 MB 7.5 MB/s eta 0:00:05\n",
      "   --- ------------------------------------ 3.4/38.6 MB 6.5 MB/s eta 0:00:06\n",
      "   ---- ----------------------------------- 3.9/38.6 MB 5.6 MB/s eta 0:00:07\n",
      "   ---- ----------------------------------- 4.2/38.6 MB 4.7 MB/s eta 0:00:08\n",
      "   ---- ----------------------------------- 4.5/38.6 MB 4.1 MB/s eta 0:00:09\n",
      "   ----- ---------------------------------- 5.0/38.6 MB 3.6 MB/s eta 0:00:10\n",
      "   ----- ---------------------------------- 5.2/38.6 MB 3.4 MB/s eta 0:00:10\n",
      "   ----- ---------------------------------- 5.8/38.6 MB 3.3 MB/s eta 0:00:11\n",
      "   ------ --------------------------------- 6.6/38.6 MB 3.1 MB/s eta 0:00:11\n",
      "   ------- -------------------------------- 7.1/38.6 MB 3.1 MB/s eta 0:00:11\n",
      "   ------- -------------------------------- 7.6/38.6 MB 3.1 MB/s eta 0:00:10\n",
      "   -------- ------------------------------- 8.4/38.6 MB 3.2 MB/s eta 0:00:10\n",
      "   --------- ------------------------------ 9.2/38.6 MB 3.2 MB/s eta 0:00:10\n",
      "   ---------- ----------------------------- 10.0/38.6 MB 3.2 MB/s eta 0:00:09\n",
      "   ----------- ---------------------------- 10.7/38.6 MB 3.3 MB/s eta 0:00:09\n",
      "   ------------ --------------------------- 11.8/38.6 MB 3.3 MB/s eta 0:00:09\n",
      "   ------------- -------------------------- 12.8/38.6 MB 3.4 MB/s eta 0:00:08\n",
      "   -------------- ------------------------- 13.6/38.6 MB 3.5 MB/s eta 0:00:08\n",
      "   --------------- ------------------------ 14.9/38.6 MB 3.6 MB/s eta 0:00:07\n",
      "   ---------------- ----------------------- 16.0/38.6 MB 3.7 MB/s eta 0:00:07\n",
      "   ----------------- ---------------------- 17.3/38.6 MB 3.8 MB/s eta 0:00:06\n",
      "   ------------------- -------------------- 18.6/38.6 MB 3.9 MB/s eta 0:00:06\n",
      "   -------------------- ------------------- 19.9/38.6 MB 4.0 MB/s eta 0:00:05\n",
      "   --------------------- ------------------ 21.2/38.6 MB 4.1 MB/s eta 0:00:05\n",
      "   ----------------------- ---------------- 22.8/38.6 MB 4.2 MB/s eta 0:00:04\n",
      "   ------------------------ --------------- 23.9/38.6 MB 4.2 MB/s eta 0:00:04\n",
      "   ------------------------- -------------- 24.4/38.6 MB 4.2 MB/s eta 0:00:04\n",
      "   ------------------------- -------------- 24.9/38.6 MB 4.1 MB/s eta 0:00:04\n",
      "   -------------------------- ------------- 25.4/38.6 MB 4.1 MB/s eta 0:00:04\n",
      "   --------------------------- ------------ 26.2/38.6 MB 4.0 MB/s eta 0:00:04\n",
      "   --------------------------- ------------ 27.0/38.6 MB 4.0 MB/s eta 0:00:03\n",
      "   ---------------------------- ----------- 27.5/38.6 MB 4.0 MB/s eta 0:00:03\n",
      "   ----------------------------- ---------- 28.6/38.6 MB 4.0 MB/s eta 0:00:03\n",
      "   ------------------------------ --------- 29.4/38.6 MB 4.0 MB/s eta 0:00:03\n",
      "   ------------------------------- -------- 30.1/38.6 MB 4.0 MB/s eta 0:00:03\n",
      "   -------------------------------- ------- 31.2/38.6 MB 4.0 MB/s eta 0:00:02\n",
      "   --------------------------------- ------ 32.2/38.6 MB 4.1 MB/s eta 0:00:02\n",
      "   ---------------------------------- ----- 33.3/38.6 MB 4.1 MB/s eta 0:00:02\n",
      "   ----------------------------------- ---- 34.6/38.6 MB 4.1 MB/s eta 0:00:01\n",
      "   ------------------------------------ --- 35.7/38.6 MB 4.2 MB/s eta 0:00:01\n",
      "   -------------------------------------- - 37.0/38.6 MB 4.2 MB/s eta 0:00:01\n",
      "   ---------------------------------------  38.5/38.6 MB 4.3 MB/s eta 0:00:01\n",
      "   ---------------------------------------  38.5/38.6 MB 4.3 MB/s eta 0:00:01\n",
      "   ---------------------------------------- 38.6/38.6 MB 4.2 MB/s  0:00:09\n",
      "Downloading threadpoolctl-3.6.0-py3-none-any.whl (18 kB)\n",
      "Installing collected packages: threadpoolctl, scipy, joblib, scikit-learn\n",
      "\n",
      "   ---------- ----------------------------- 1/4 [scipy]\n",
      "   ---------- ----------------------------- 1/4 [scipy]\n",
      "   ---------- ----------------------------- 1/4 [scipy]\n",
      "   ---------- ----------------------------- 1/4 [scipy]\n",
      "   ---------- ----------------------------- 1/4 [scipy]\n",
      "   ---------- ----------------------------- 1/4 [scipy]\n",
      "   ---------- ----------------------------- 1/4 [scipy]\n",
      "   ---------- ----------------------------- 1/4 [scipy]\n",
      "   ---------- ----------------------------- 1/4 [scipy]\n",
      "   ---------- ----------------------------- 1/4 [scipy]\n",
      "   ---------- ----------------------------- 1/4 [scipy]\n",
      "   ---------- ----------------------------- 1/4 [scipy]\n",
      "   ---------- ----------------------------- 1/4 [scipy]\n",
      "   ---------- ----------------------------- 1/4 [scipy]\n",
      "   ---------- ----------------------------- 1/4 [scipy]\n",
      "   ---------- ----------------------------- 1/4 [scipy]\n",
      "   ---------- ----------------------------- 1/4 [scipy]\n",
      "   ---------- ----------------------------- 1/4 [scipy]\n",
      "   ---------- ----------------------------- 1/4 [scipy]\n",
      "   ---------- ----------------------------- 1/4 [scipy]\n",
      "   ---------- ----------------------------- 1/4 [scipy]\n",
      "   ---------- ----------------------------- 1/4 [scipy]\n",
      "   ---------- ----------------------------- 1/4 [scipy]\n",
      "   ---------- ----------------------------- 1/4 [scipy]\n",
      "   ---------- ----------------------------- 1/4 [scipy]\n",
      "   ---------- ----------------------------- 1/4 [scipy]\n",
      "   ---------- ----------------------------- 1/4 [scipy]\n",
      "   ---------- ----------------------------- 1/4 [scipy]\n",
      "   ---------- ----------------------------- 1/4 [scipy]\n",
      "   ---------- ----------------------------- 1/4 [scipy]\n",
      "   ---------- ----------------------------- 1/4 [scipy]\n",
      "   ---------- ----------------------------- 1/4 [scipy]\n",
      "   ---------- ----------------------------- 1/4 [scipy]\n",
      "   ---------- ----------------------------- 1/4 [scipy]\n",
      "   ---------- ----------------------------- 1/4 [scipy]\n",
      "   ---------- ----------------------------- 1/4 [scipy]\n",
      "   ---------- ----------------------------- 1/4 [scipy]\n",
      "   ---------- ----------------------------- 1/4 [scipy]\n",
      "   ---------- ----------------------------- 1/4 [scipy]\n",
      "   ---------- ----------------------------- 1/4 [scipy]\n",
      "   ---------- ----------------------------- 1/4 [scipy]\n",
      "   ---------- ----------------------------- 1/4 [scipy]\n",
      "   ---------- ----------------------------- 1/4 [scipy]\n",
      "   ---------- ----------------------------- 1/4 [scipy]\n",
      "   ---------- ----------------------------- 1/4 [scipy]\n",
      "   ---------- ----------------------------- 1/4 [scipy]\n",
      "   ---------- ----------------------------- 1/4 [scipy]\n",
      "   ---------- ----------------------------- 1/4 [scipy]\n",
      "   ---------- ----------------------------- 1/4 [scipy]\n",
      "   ---------- ----------------------------- 1/4 [scipy]\n",
      "   ---------- ----------------------------- 1/4 [scipy]\n",
      "   ---------- ----------------------------- 1/4 [scipy]\n",
      "   ---------- ----------------------------- 1/4 [scipy]\n",
      "   ---------- ----------------------------- 1/4 [scipy]\n",
      "   ---------- ----------------------------- 1/4 [scipy]\n",
      "   ---------- ----------------------------- 1/4 [scipy]\n",
      "   ---------- ----------------------------- 1/4 [scipy]\n",
      "   ---------- ----------------------------- 1/4 [scipy]\n",
      "   ---------- ----------------------------- 1/4 [scipy]\n",
      "   ---------- ----------------------------- 1/4 [scipy]\n",
      "   ---------- ----------------------------- 1/4 [scipy]\n",
      "   ---------- ----------------------------- 1/4 [scipy]\n",
      "   ---------- ----------------------------- 1/4 [scipy]\n",
      "   ---------- ----------------------------- 1/4 [scipy]\n",
      "   ---------- ----------------------------- 1/4 [scipy]\n",
      "   ---------- ----------------------------- 1/4 [scipy]\n",
      "   ---------- ----------------------------- 1/4 [scipy]\n",
      "   ---------- ----------------------------- 1/4 [scipy]\n",
      "   ---------- ----------------------------- 1/4 [scipy]\n",
      "   ---------- ----------------------------- 1/4 [scipy]\n",
      "   ---------- ----------------------------- 1/4 [scipy]\n",
      "   ---------- ----------------------------- 1/4 [scipy]\n",
      "   ---------- ----------------------------- 1/4 [scipy]\n",
      "   ---------- ----------------------------- 1/4 [scipy]\n",
      "   ---------- ----------------------------- 1/4 [scipy]\n",
      "   ---------- ----------------------------- 1/4 [scipy]\n",
      "   ---------- ----------------------------- 1/4 [scipy]\n",
      "   ---------- ----------------------------- 1/4 [scipy]\n",
      "   ---------- ----------------------------- 1/4 [scipy]\n",
      "   ---------- ----------------------------- 1/4 [scipy]\n",
      "   ---------- ----------------------------- 1/4 [scipy]\n",
      "   ---------- ----------------------------- 1/4 [scipy]\n",
      "   ---------- ----------------------------- 1/4 [scipy]\n",
      "   ---------- ----------------------------- 1/4 [scipy]\n",
      "   ---------- ----------------------------- 1/4 [scipy]\n",
      "   ---------- ----------------------------- 1/4 [scipy]\n",
      "   ---------- ----------------------------- 1/4 [scipy]\n",
      "   ---------- ----------------------------- 1/4 [scipy]\n",
      "   ---------- ----------------------------- 1/4 [scipy]\n",
      "   ---------- ----------------------------- 1/4 [scipy]\n",
      "   ---------- ----------------------------- 1/4 [scipy]\n",
      "   ---------- ----------------------------- 1/4 [scipy]\n",
      "   ---------- ----------------------------- 1/4 [scipy]\n",
      "   ---------- ----------------------------- 1/4 [scipy]\n",
      "   ---------- ----------------------------- 1/4 [scipy]\n",
      "   ---------- ----------------------------- 1/4 [scipy]\n",
      "   ---------- ----------------------------- 1/4 [scipy]\n",
      "   ---------- ----------------------------- 1/4 [scipy]\n",
      "   -------------------- ------------------- 2/4 [joblib]\n",
      "   -------------------- ------------------- 2/4 [joblib]\n",
      "   -------------------- ------------------- 2/4 [joblib]\n",
      "   -------------------- ------------------- 2/4 [joblib]\n",
      "   -------------------- ------------------- 2/4 [joblib]\n",
      "   -------------------- ------------------- 2/4 [joblib]\n",
      "   ------------------------------ --------- 3/4 [scikit-learn]\n",
      "   ------------------------------ --------- 3/4 [scikit-learn]\n",
      "   ------------------------------ --------- 3/4 [scikit-learn]\n",
      "   ------------------------------ --------- 3/4 [scikit-learn]\n",
      "   ------------------------------ --------- 3/4 [scikit-learn]\n",
      "   ------------------------------ --------- 3/4 [scikit-learn]\n",
      "   ------------------------------ --------- 3/4 [scikit-learn]\n",
      "   ------------------------------ --------- 3/4 [scikit-learn]\n",
      "   ------------------------------ --------- 3/4 [scikit-learn]\n",
      "   ------------------------------ --------- 3/4 [scikit-learn]\n",
      "   ------------------------------ --------- 3/4 [scikit-learn]\n",
      "   ------------------------------ --------- 3/4 [scikit-learn]\n",
      "   ------------------------------ --------- 3/4 [scikit-learn]\n",
      "   ------------------------------ --------- 3/4 [scikit-learn]\n",
      "   ------------------------------ --------- 3/4 [scikit-learn]\n",
      "   ------------------------------ --------- 3/4 [scikit-learn]\n",
      "   ------------------------------ --------- 3/4 [scikit-learn]\n",
      "   ------------------------------ --------- 3/4 [scikit-learn]\n",
      "   ------------------------------ --------- 3/4 [scikit-learn]\n",
      "   ------------------------------ --------- 3/4 [scikit-learn]\n",
      "   ------------------------------ --------- 3/4 [scikit-learn]\n",
      "   ------------------------------ --------- 3/4 [scikit-learn]\n",
      "   ------------------------------ --------- 3/4 [scikit-learn]\n",
      "   ------------------------------ --------- 3/4 [scikit-learn]\n",
      "   ------------------------------ --------- 3/4 [scikit-learn]\n",
      "   ------------------------------ --------- 3/4 [scikit-learn]\n",
      "   ------------------------------ --------- 3/4 [scikit-learn]\n",
      "   ------------------------------ --------- 3/4 [scikit-learn]\n",
      "   ------------------------------ --------- 3/4 [scikit-learn]\n",
      "   ------------------------------ --------- 3/4 [scikit-learn]\n",
      "   ------------------------------ --------- 3/4 [scikit-learn]\n",
      "   ------------------------------ --------- 3/4 [scikit-learn]\n",
      "   ------------------------------ --------- 3/4 [scikit-learn]\n",
      "   ------------------------------ --------- 3/4 [scikit-learn]\n",
      "   ------------------------------ --------- 3/4 [scikit-learn]\n",
      "   ------------------------------ --------- 3/4 [scikit-learn]\n",
      "   ------------------------------ --------- 3/4 [scikit-learn]\n",
      "   ------------------------------ --------- 3/4 [scikit-learn]\n",
      "   ------------------------------ --------- 3/4 [scikit-learn]\n",
      "   ------------------------------ --------- 3/4 [scikit-learn]\n",
      "   ------------------------------ --------- 3/4 [scikit-learn]\n",
      "   ------------------------------ --------- 3/4 [scikit-learn]\n",
      "   ------------------------------ --------- 3/4 [scikit-learn]\n",
      "   ------------------------------ --------- 3/4 [scikit-learn]\n",
      "   ------------------------------ --------- 3/4 [scikit-learn]\n",
      "   ------------------------------ --------- 3/4 [scikit-learn]\n",
      "   ------------------------------ --------- 3/4 [scikit-learn]\n",
      "   ------------------------------ --------- 3/4 [scikit-learn]\n",
      "   ------------------------------ --------- 3/4 [scikit-learn]\n",
      "   ------------------------------ --------- 3/4 [scikit-learn]\n",
      "   ------------------------------ --------- 3/4 [scikit-learn]\n",
      "   ------------------------------ --------- 3/4 [scikit-learn]\n",
      "   ---------------------------------------- 4/4 [scikit-learn]\n",
      "\n",
      "Successfully installed joblib-1.5.1 scikit-learn-1.7.1 scipy-1.16.1 threadpoolctl-3.6.0\n"
     ]
    }
   ],
   "source": [
    "!pip install scikit-learn\n",
    "\n",
    "\n"
   ]
  },
  {
   "cell_type": "markdown",
   "id": "11d64865-3ce9-4257-b61c-754b1537f176",
   "metadata": {},
   "source": [
    "##  Modeling: Anomaly Detection with Isolation Forest\n",
    "\n",
    "To detect suspicious or unusual patterns in the traffic data, we use the **Isolation Forest** algorithm — a popular technique for anomaly detection in cybersecurity.\n",
    "\n",
    "###  Features Used:\n",
    "- `bytes_in`\n",
    "- `bytes_out`\n",
    "- `duration`\n",
    "- `avg_packet_size`\n",
    "\n",
    "These features help identify abnormal sessions that may indicate infiltration attempts, data exfiltration, or bot activity.\n"
   ]
  },
  {
   "cell_type": "code",
   "execution_count": 26,
   "id": "1aff53c8-cfc5-4b23-82bb-2a3b91e3085d",
   "metadata": {},
   "outputs": [],
   "source": [
    "from sklearn.ensemble import IsolationForest\n",
    "\n",
    "# Features we'll use for anomaly detection\n",
    "features = ['bytes_in', 'bytes_out', 'duration', 'avg_packet_size']\n",
    "X = df[features]\n"
   ]
  },
  {
   "cell_type": "markdown",
   "id": "62111238-9260-4837-af70-c128f7b9b73e",
   "metadata": {},
   "source": [
    "##  Training the Model & Labeling Anomalies\n",
    "\n",
    "We now train the **Isolation Forest** model to detect unusual patterns in the web traffic.\n",
    "\n",
    "- **Model Parameters**:\n",
    "  - `n_estimators=100`: Number of trees used\n",
    "  - `contamination=0.05`: We expect ~5% of the data to be anomalies\n",
    "  - `random_state=42`: For reproducibility\n",
    "\n",
    "The model returns:\n",
    "- **-1** for anomalies\n",
    "- **1** for normal data\n",
    "\n",
    "We map this output to a new column `is_anomaly`, where:\n",
    "- **1 = Anomaly**\n",
    "- **0 = Normal Traffic**\n",
    "\n",
    "Finally, we check the distribution of anomalies.\n"
   ]
  },
  {
   "cell_type": "code",
   "execution_count": 28,
   "id": "dc4511c5-b67b-4ea0-acdf-087afa48354c",
   "metadata": {},
   "outputs": [
    {
     "data": {
      "text/plain": [
       "is_anomaly\n",
       "0    267\n",
       "1     15\n",
       "Name: count, dtype: int64"
      ]
     },
     "execution_count": 28,
     "metadata": {},
     "output_type": "execute_result"
    }
   ],
   "source": [
    "# Train Isolation Forest model\n",
    "iso_forest = IsolationForest(n_estimators=100, contamination=0.05, random_state=42)\n",
    "df['anomaly_score'] = iso_forest.fit_predict(X)\n",
    "\n",
    "# Label anomalies: 1 = anomaly, 0 = normal\n",
    "df['is_anomaly'] = df['anomaly_score'].apply(lambda x: 1 if x == -1 else 0)\n",
    "\n",
    "# Count anomalies vs normal traffic\n",
    "df['is_anomaly'].value_counts()\n"
   ]
  },
  {
   "cell_type": "markdown",
   "id": "14261278-6816-43a6-a327-1bc09ad3a5f6",
   "metadata": {},
   "source": [
    "##  Evaluation: Comparing Anomalies vs Normal Traffic\n",
    "\n",
    "To interpret the model results, we compare the **average values** of key features between:\n",
    "\n",
    "- **Anomalous traffic** (`is_anomaly = 1`)\n",
    "- **Normal traffic** (`is_anomaly = 0`)\n",
    "\n",
    "This helps in understanding what makes the anomalies stand out — for example:\n",
    "- Unusual data transfer (`bytes_in`, `bytes_out`)\n",
    "- Suspicious session duration\n",
    "- Abnormal average packet sizes\n"
   ]
  },
  {
   "cell_type": "code",
   "execution_count": 29,
   "id": "1981eedc-6bfb-4416-a96c-70fdbf226cb9",
   "metadata": {},
   "outputs": [
    {
     "data": {
      "text/html": [
       "<div>\n",
       "<style scoped>\n",
       "    .dataframe tbody tr th:only-of-type {\n",
       "        vertical-align: middle;\n",
       "    }\n",
       "\n",
       "    .dataframe tbody tr th {\n",
       "        vertical-align: top;\n",
       "    }\n",
       "\n",
       "    .dataframe thead th {\n",
       "        text-align: right;\n",
       "    }\n",
       "</style>\n",
       "<table border=\"1\" class=\"dataframe\">\n",
       "  <thead>\n",
       "    <tr style=\"text-align: right;\">\n",
       "      <th></th>\n",
       "      <th>bytes_in</th>\n",
       "      <th>bytes_out</th>\n",
       "      <th>duration</th>\n",
       "      <th>avg_packet_size</th>\n",
       "    </tr>\n",
       "    <tr>\n",
       "      <th>is_anomaly</th>\n",
       "      <th></th>\n",
       "      <th></th>\n",
       "      <th></th>\n",
       "      <th></th>\n",
       "    </tr>\n",
       "  </thead>\n",
       "  <tbody>\n",
       "    <tr>\n",
       "      <th>0</th>\n",
       "      <td>4.460447e+05</td>\n",
       "      <td>38521.044944</td>\n",
       "      <td>600.0</td>\n",
       "      <td>807.609551</td>\n",
       "    </tr>\n",
       "    <tr>\n",
       "      <th>1</th>\n",
       "      <td>1.460894e+07</td>\n",
       "      <td>903946.066667</td>\n",
       "      <td>600.0</td>\n",
       "      <td>25854.810444</td>\n",
       "    </tr>\n",
       "  </tbody>\n",
       "</table>\n",
       "</div>"
      ],
      "text/plain": [
       "                bytes_in      bytes_out  duration  avg_packet_size\n",
       "is_anomaly                                                        \n",
       "0           4.460447e+05   38521.044944     600.0       807.609551\n",
       "1           1.460894e+07  903946.066667     600.0     25854.810444"
      ]
     },
     "execution_count": 29,
     "metadata": {},
     "output_type": "execute_result"
    }
   ],
   "source": [
    "# Compare average values of features between anomalies and normal traffic\n",
    "df.groupby('is_anomaly')[['bytes_in', 'bytes_out', 'duration', 'avg_packet_size']].mean()\n"
   ]
  },
  {
   "cell_type": "markdown",
   "id": "1aa121a1-9308-4351-a43b-ee82cb39318d",
   "metadata": {},
   "source": [
    "##  Visualization of Anomalies\n",
    "\n",
    "Using a scatter plot, we visualize the distribution of web traffic based on `bytes_in` and `bytes_out`.\n",
    "\n",
    "- Blue points represent **normal** traffic.\n",
    "- Red points represent **anomalies** detected by the Isolation Forest model.\n",
    "\n",
    "This plot helps to visually identify suspicious traffic patterns.\n"
   ]
  },
  {
   "cell_type": "code",
   "execution_count": 30,
   "id": "54237c17-b7af-437b-b872-bcaa4973d315",
   "metadata": {},
   "outputs": [
    {
     "data": {
      "image/png": "[encoded data removed]",
      "text/plain": [
       "<Figure size 1000x600 with 1 Axes>"
      ]
     },
     "metadata": {},
     "output_type": "display_data"
    }
   ],
   "source": [
    "import seaborn as sns\n",
    "import matplotlib.pyplot as plt\n",
    "\n",
    "plt.figure(figsize=(10, 6))\n",
    "sns.scatterplot(\n",
    "    data=df,\n",
    "    x='bytes_in',\n",
    "    y='bytes_out',\n",
    "    hue='is_anomaly',\n",
    "    palette={0: 'blue', 1: 'red'}\n",
    ")\n",
    "plt.title(\"Anomalies in Web Traffic (bytes_in vs bytes_out)\")\n",
    "plt.xlabel(\"Bytes In\")\n",
    "plt.ylabel(\"Bytes Out\")\n",
    "plt.legend(title='Anomaly')\n",
    "plt.grid(True)\n",
    "plt.show()\n"
   ]
  },
  {
   "cell_type": "code",
   "execution_count": null,
   "id": "abcfa2d6-d96e-47ca-9aa6-0b70a74b7df7",
   "metadata": {},
   "outputs": [],
   "source": []
  }
 ],
 "metadata": {
  "kernelspec": {
   "display_name": "Python 3 (ipykernel)",
   "language": "python",
   "name": "python3"
  },
  "language_info": {
   "codemirror_mode": {
    "name": "ipython",
    "version": 3
   },
   "file_extension": ".py",
   "mimetype": "text/x-python",
   "name": "python",
   "nbconvert_exporter": "python",
   "pygments_lexer": "ipython3",
   "version": "3.11.9"
  }
 },
 "nbformat": 4,
 "nbformat_minor": 5
}
